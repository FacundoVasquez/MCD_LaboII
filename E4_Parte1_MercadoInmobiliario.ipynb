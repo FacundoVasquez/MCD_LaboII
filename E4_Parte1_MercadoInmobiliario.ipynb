{
 "cells": [
  {
   "cell_type": "markdown",
   "id": "52d0cde2",
   "metadata": {},
   "source": [
    "# Dataset Mercado Inmobiliario"
   ]
  },
  {
   "cell_type": "markdown",
   "id": "6005fe83",
   "metadata": {},
   "source": [
    "** Breve Intro de la creación del Dataset **"
   ]
  },
  {
   "cell_type": "code",
   "execution_count": 3,
   "id": "72729bf0",
   "metadata": {},
   "outputs": [],
   "source": [
    "# Carga de librerías necesarias para el trabajo\n",
    "import requests # Permite hacer llamados con el protocolo HTTP\n",
    "import json # Permite trabajar con los archivos JSON\n",
    "import pandas as pd # Trabajar con datos tabulares\n",
    "import numpy as np # Trabajar con operaciones matemáticas y arrays"
   ]
  },
  {
   "cell_type": "code",
   "execution_count": 23,
   "id": "47f8b9f5",
   "metadata": {},
   "outputs": [],
   "source": [
    "# Función que permite acceder a la información del URL\n",
    "\n",
    "def get_response(url):\n",
    "    try:\n",
    "        response = requests.get(url)\n",
    "        response.raise_for_status()\n",
    "        return response\n",
    "    except requests.exceptions.HTTPError as errh:\n",
    "        print (\"Http Error:\",errh)\n",
    "    except requests.exceptions.ConnectionError as errc:\n",
    "        print (\"Error Connecting:\",errc)\n",
    "    except requests.exceptions.Timeout as errt:\n",
    "        print (\"Timeout Error:\",errt)\n",
    "    except requests.exceptions.RequestException as err:\n",
    "        print (\"Ops: Something Else\",err)"
   ]
  },
  {
   "cell_type": "code",
   "execution_count": 24,
   "id": "8c6fdb3b",
   "metadata": {},
   "outputs": [
    {
     "name": "stdout",
     "output_type": "stream",
     "text": [
      "Encontramos 96552 resultados para nuestra consulta\n"
     ]
    }
   ],
   "source": [
    "# Primero indicamos la consulta que vamos a hacer\n",
    "url='https://api.mercadolibre.com/sites/MLA/search?item_location=lat:-34.687056_-34.537684,lon:-58.270306_-58.528547&category=MLA1459&limit=50&offset=0#json'\n",
    "\n",
    "offset=0 #Arrancamos con el offset 0\n",
    "r = get_response(url) #Vemos los resultados de la consulta\n",
    "maximum = int(str(r.json()[\"paging\"][\"total\"])) #Consultamos cuál es el número máximo de resultados\n",
    "\n",
    "print('Encontramos {} resultados para nuestra consulta'.format(maximum))"
   ]
  },
  {
   "cell_type": "code",
   "execution_count": 26,
   "id": "49fc8642",
   "metadata": {},
   "outputs": [
    {
     "name": "stdout",
     "output_type": "stream",
     "text": [
      "El valor del rango es: 0.14937199999999962\n",
      "El valor de la division es: 0.0014937199999999961\n"
     ]
    }
   ],
   "source": [
    "# Vamos a forzarnos a buscar pocos resultados para seguir testeando y no perder tanta velocidad\n",
    "# Cuando vayamos full mode, esta linea de abajo hay que comentarla o borrarla\n",
    "maximum=1000\n",
    "\n",
    "\n",
    "# Ahora, sabiendo esto, vamos a traer todos los resultados iterando y aumentando el offset en cada loop.\n",
    "# Recuerden que solo podemos traer de a tandas de a 50 resultados\n",
    "item_list = []\n",
    "\n",
    "#Se definen los punto de inicio y final del rectángulo a barrer en búsqueda inmuebles\n",
    "lat1=-34.687056\n",
    "lon1=-58.270306\n",
    "latF=-34.537684\n",
    "lonF=-58.528547\n",
    "\n",
    "#Se calcula la divisón del espacio a analizar\n",
    "rango = min(abs(latF-lat1),abs(lonF-lon1))\n",
    "division = rango/100\n",
    "\n",
    "print(\"El valor del rango es: \"+ str(rango))\n",
    "print(\"El valor de la division es: \"+ str(division))"
   ]
  },
  {
   "cell_type": "code",
   "execution_count": 27,
   "id": "f4875cda",
   "metadata": {},
   "outputs": [
    {
     "data": {
      "text/plain": [
       "200"
      ]
     },
     "execution_count": 27,
     "metadata": {},
     "output_type": "execute_result"
    }
   ],
   "source": [
    "(r.status_code)"
   ]
  },
  {
   "cell_type": "code",
   "execution_count": 28,
   "id": "d4aff206",
   "metadata": {},
   "outputs": [
    {
     "name": "stdout",
     "output_type": "stream",
     "text": [
      "Error Connecting: ('Connection aborted.', RemoteDisconnected('Remote end closed connection without response'))\n"
     ]
    },
    {
     "ename": "AttributeError",
     "evalue": "'NoneType' object has no attribute 'json'",
     "output_type": "error",
     "traceback": [
      "\u001b[1;31m---------------------------------------------------------------------------\u001b[0m",
      "\u001b[1;31mAttributeError\u001b[0m                            Traceback (most recent call last)",
      "\u001b[1;32m<ipython-input-28-73151ec82e2a>\u001b[0m in \u001b[0;36m<module>\u001b[1;34m\u001b[0m\n\u001b[0;32m      9\u001b[0m             \u001b[0murl\u001b[0m\u001b[1;33m=\u001b[0m\u001b[1;34m'https://api.mercadolibre.com/sites/MLA/search?item_location=lat:{}_{},lon:{}_{}&category=MLA401685&offset={}#json'\u001b[0m\u001b[1;33m.\u001b[0m\u001b[0mformat\u001b[0m\u001b[1;33m(\u001b[0m\u001b[0mlat1\u001b[0m\u001b[1;33m,\u001b[0m\u001b[0mlat2\u001b[0m\u001b[1;33m,\u001b[0m\u001b[0mlon1\u001b[0m\u001b[1;33m,\u001b[0m\u001b[0mlon2\u001b[0m\u001b[1;33m,\u001b[0m\u001b[0moffset\u001b[0m\u001b[1;33m)\u001b[0m\u001b[1;33m\u001b[0m\u001b[1;33m\u001b[0m\u001b[0m\n\u001b[0;32m     10\u001b[0m             \u001b[0mr\u001b[0m \u001b[1;33m=\u001b[0m \u001b[0mget_response\u001b[0m\u001b[1;33m(\u001b[0m\u001b[0murl\u001b[0m\u001b[1;33m)\u001b[0m\u001b[1;33m\u001b[0m\u001b[1;33m\u001b[0m\u001b[0m\n\u001b[1;32m---> 11\u001b[1;33m             \u001b[0mdata\u001b[0m \u001b[1;33m=\u001b[0m \u001b[0mr\u001b[0m\u001b[1;33m.\u001b[0m\u001b[0mjson\u001b[0m\u001b[1;33m(\u001b[0m\u001b[1;33m)\u001b[0m\u001b[1;33m\u001b[0m\u001b[1;33m\u001b[0m\u001b[0m\n\u001b[0m\u001b[0;32m     12\u001b[0m             \u001b[0mlength\u001b[0m \u001b[1;33m=\u001b[0m \u001b[0mlen\u001b[0m\u001b[1;33m(\u001b[0m\u001b[0mdata\u001b[0m\u001b[1;33m[\u001b[0m\u001b[1;34m'results'\u001b[0m\u001b[1;33m]\u001b[0m\u001b[1;33m)\u001b[0m\u001b[1;33m\u001b[0m\u001b[1;33m\u001b[0m\u001b[0m\n\u001b[0;32m     13\u001b[0m             \u001b[1;32mfor\u001b[0m \u001b[0mi\u001b[0m \u001b[1;32min\u001b[0m \u001b[0mrange\u001b[0m\u001b[1;33m(\u001b[0m\u001b[0mlength\u001b[0m\u001b[1;33m)\u001b[0m\u001b[1;33m:\u001b[0m\u001b[1;33m\u001b[0m\u001b[1;33m\u001b[0m\u001b[0m\n",
      "\u001b[1;31mAttributeError\u001b[0m: 'NoneType' object has no attribute 'json'"
     ]
    }
   ],
   "source": [
    "#Se itera de tal forma de barrer el rectángulo en pequeñas porciones\n",
    "while lat1 <= latF:\n",
    "    lat2=lat1+division\n",
    "    \n",
    "    while lon1 >= lonF:\n",
    "        lon2=lon1-division\n",
    "        \n",
    "        while r.status_code == 200 and offset < maximum:\n",
    "            url='https://api.mercadolibre.com/sites/MLA/search?item_location=lat:{}_{},lon:{}_{}&category=MLA401685&offset={}#json'.format(lat1,lat2,lon1,lon2,offset)\n",
    "            r = get_response(url)\n",
    "            data = r.json()\n",
    "            length = len(data['results'])\n",
    "            for i in range(length):\n",
    "                item_id = data['results'][i]['id']\n",
    "                item_list.append(item_id)\n",
    "            offset += 50\n",
    "                        \n",
    "            #print(\"Porcentaje de completitud offset: {:0.2%}\".format(offset/maximum),end='\\r')\n",
    "            #print(\"Porcentaje de completitud lon: {:0.2%}\".format(abs(lon2/lonF)),end='\\r')\n",
    "            #print(\"Porcentaje de completitud lat: {:0.2%}\".format(latF/lat2),end='\\r')\n",
    "\n",
    "        lon1 -= division\n",
    "        offset=0\n",
    "\n",
    "    lat1 += division\n",
    "    offset=0\n",
    "    print(\"Porcentaje de completitud lat: {:0.2%}\".format(lat2/latF),end='\\r')\n",
    "\n",
    "len(item_list)"
   ]
  },
  {
   "cell_type": "code",
   "execution_count": 20,
   "id": "b9262b40",
   "metadata": {},
   "outputs": [
    {
     "name": "stdout",
     "output_type": "stream",
     "text": [
      "https://api.mercadolibre.com/sites/MLA/search?item_location=lat:-34.687056_-34.686906627999996,lon:-58.281060784000196_-58.2812101560002&category=MLA401685&offset=350#json\n"
     ]
    },
    {
     "data": {
      "text/plain": [
       "{'site_id': 'MLA',\n",
       " 'country_default_time_zone': 'GMT-03:00',\n",
       " 'paging': {'total': 31, 'primary_results': 31, 'offset': 350, 'limit': 50},\n",
       " 'results': [],\n",
       " 'sort': {'id': 'relevance', 'name': 'Más relevantes'},\n",
       " 'available_sorts': [{'id': 'price_asc', 'name': 'Menor precio'},\n",
       "  {'id': 'price_desc', 'name': 'Mayor precio'}],\n",
       " 'filters': [{'id': 'item_location',\n",
       "   'name': 'Ubicación',\n",
       "   'type': 'text',\n",
       "   'values': [{'id': 'lat:-34.687056_-34.686906627999996,lon:-58.281060784000196_-58.2812101560002',\n",
       "     'name': 'Área del mapa seleccionada'}]},\n",
       "  {'id': 'category',\n",
       "   'name': 'Categorías',\n",
       "   'type': 'text',\n",
       "   'values': [{'id': 'MLA401685',\n",
       "     'name': 'Propiedades Individuales',\n",
       "     'path_from_root': [{'id': 'MLA1459', 'name': 'Inmuebles'},\n",
       "      {'id': 'MLA1466', 'name': 'Casas'},\n",
       "      {'id': 'MLA1468', 'name': 'Venta'},\n",
       "      {'id': 'MLA401685', 'name': 'Propiedades Individuales'}]}]}],\n",
       " 'available_filters': [{'id': 'state',\n",
       "   'name': 'Ubicación',\n",
       "   'type': 'text',\n",
       "   'values': [{'id': 'TUxBUEdSQWVmNTVm',\n",
       "     'name': 'Bs.As. G.B.A. Oeste',\n",
       "     'results': 16},\n",
       "    {'id': 'TUxBUEdSQXJlMDNm', 'name': 'Bs.As. G.B.A. Sur', 'results': 10},\n",
       "    {'id': 'TUxBUENBUGw3M2E1', 'name': 'Capital Federal', 'results': 4},\n",
       "    {'id': 'TUxBUFpPTmFpbnRl',\n",
       "     'name': 'Buenos Aires Interior',\n",
       "     'results': 1}]},\n",
       "  {'id': 'price',\n",
       "   'name': 'Precio',\n",
       "   'type': 'range',\n",
       "   'values': [{'id': '*-1.0E7', 'name': 'Hasta $ 10.000.000', 'results': 6},\n",
       "    {'id': '1.0E7-2.0E7', 'name': '$10.000.000 a $20.000.000', 'results': 12},\n",
       "    {'id': '2.0E7-*', 'name': 'Más de $20.000.000', 'results': 13}]},\n",
       "  {'id': 'has_video',\n",
       "   'name': 'Filtro por publicaciones con video',\n",
       "   'type': 'boolean',\n",
       "   'values': [{'id': 'yes', 'name': 'Publicaciones con video', 'results': 3}]},\n",
       "  {'id': 'has_pictures',\n",
       "   'name': 'Filtro por publicaciones con imágenes',\n",
       "   'type': 'boolean',\n",
       "   'values': [{'id': 'yes', 'name': 'Con fotos', 'results': 31}]},\n",
       "  {'id': 'seller_type',\n",
       "   'name': 'Vendedor',\n",
       "   'type': 'text',\n",
       "   'values': [{'id': 'real_estate_agency',\n",
       "     'name': 'Inmobiliaria',\n",
       "     'results': 29},\n",
       "    {'id': 'private_seller', 'name': 'Dueño directo', 'results': 2}]},\n",
       "  {'id': 'BEDROOMS',\n",
       "   'name': 'Dormitorios',\n",
       "   'type': 'range',\n",
       "   'values': [{'id': '[2-2]', 'name': '2 dormitorios', 'results': 8},\n",
       "    {'id': '[3-3]', 'name': '3 dormitorios', 'results': 18},\n",
       "    {'id': '[4-*)', 'name': '4 dormitorios o más', 'results': 5}]},\n",
       "  {'id': 'COVERED_AREA',\n",
       "   'name': 'Superficie cubierta',\n",
       "   'type': 'range',\n",
       "   'values': [{'id': '(*-95m²]',\n",
       "     'name': '95 m² cubiertos o menos',\n",
       "     'results': 7},\n",
       "    {'id': '[95m²-131m²]', 'name': '95 a 131 m² cubiertos', 'results': 8},\n",
       "    {'id': '[131m²-180m²]', 'name': '131 a 180 m² cubiertos', 'results': 9},\n",
       "    {'id': '[180m²-*)', 'name': '180 m² cubiertos o más', 'results': 10}]},\n",
       "  {'id': 'FULL_BATHROOMS',\n",
       "   'name': 'Baños',\n",
       "   'type': 'range',\n",
       "   'values': [{'id': '[1-1]', 'name': '1 baño', 'results': 11},\n",
       "    {'id': '[2-2]', 'name': '2 baños', 'results': 13},\n",
       "    {'id': '[3-3]', 'name': '3 baños', 'results': 5},\n",
       "    {'id': '[4-4]', 'name': '4 baños', 'results': 2}]},\n",
       "  {'id': 'HAS_AIR_CONDITIONING',\n",
       "   'name': 'Otras características',\n",
       "   'type': 'boolean',\n",
       "   'values': [{'id': '242085',\n",
       "     'name': 'Con aire acondicionado',\n",
       "     'results': 9}]},\n",
       "  {'id': 'HAS_ALARM',\n",
       "   'name': 'Otras características',\n",
       "   'type': 'boolean',\n",
       "   'values': [{'id': '242085', 'name': 'Con alarma', 'results': 3}]},\n",
       "  {'id': 'HAS_GARDEN',\n",
       "   'name': 'Otras características',\n",
       "   'type': 'boolean',\n",
       "   'values': [{'id': '242085', 'name': 'Con jardín', 'results': 11}]},\n",
       "  {'id': 'HAS_GRILL',\n",
       "   'name': 'Otras características',\n",
       "   'type': 'boolean',\n",
       "   'values': [{'id': '242085', 'name': 'Con parrilla', 'results': 4}]},\n",
       "  {'id': 'HAS_HALF_BATH',\n",
       "   'name': 'Otras características',\n",
       "   'type': 'boolean',\n",
       "   'values': [{'id': '242085', 'name': 'Con toilette', 'results': 4}]},\n",
       "  {'id': 'HAS_SWIMMING_POOL',\n",
       "   'name': 'Otras características',\n",
       "   'type': 'boolean',\n",
       "   'values': [{'id': '242085', 'name': 'Con pileta', 'results': 1}]},\n",
       "  {'id': 'ITEM_CONDITION',\n",
       "   'name': 'Condición',\n",
       "   'type': 'STRING',\n",
       "   'values': [{'id': '2230581', 'name': 'Usado', 'results': 20},\n",
       "    {'id': '2230284', 'name': 'Nuevo', 'results': 4}]},\n",
       "  {'id': 'OPERATION',\n",
       "   'name': 'Operación',\n",
       "   'type': 'STRING',\n",
       "   'values': [{'id': '242075', 'name': 'Venta', 'results': 31}]},\n",
       "  {'id': 'OPERATION_SUBTYPE',\n",
       "   'name': 'Modalidad',\n",
       "   'type': 'STRING',\n",
       "   'values': [{'id': '244562',\n",
       "     'name': 'Propiedades individuales',\n",
       "     'results': 31}]},\n",
       "  {'id': 'PARKING_LOTS',\n",
       "   'name': 'Cocheras',\n",
       "   'type': 'range',\n",
       "   'values': [{'id': '[0-0]', 'name': 'No tiene cocheras', 'results': 11},\n",
       "    {'id': '[1-1]', 'name': '1 cochera', 'results': 15},\n",
       "    {'id': '[2-2]', 'name': '2 cocheras', 'results': 2},\n",
       "    {'id': '[3-3]', 'name': '3 cocheras', 'results': 3}]},\n",
       "  {'id': 'PROFESSIONAL_USE_ALLOWED',\n",
       "   'name': 'Otras características',\n",
       "   'type': 'boolean',\n",
       "   'values': [{'id': '242085', 'name': 'Apto profesional', 'results': 3}]},\n",
       "  {'id': 'PROPERTY_AGE',\n",
       "   'name': 'Antigüedad',\n",
       "   'type': 'range',\n",
       "   'values': [{'id': '[0años-0años]', 'name': 'A estrenar', 'results': 3},\n",
       "    {'id': '[1años-15años]', 'name': '1 a 15 años', 'results': 3},\n",
       "    {'id': '[15años-20años]', 'name': '15 a 20 años', 'results': 4},\n",
       "    {'id': '[20años-50años]', 'name': '20 a 50 años', 'results': 7},\n",
       "    {'id': '[50años-*)', 'name': '50 años o más', 'results': 5}]},\n",
       "  {'id': 'PROPERTY_TYPE',\n",
       "   'name': 'Inmueble',\n",
       "   'type': 'STRING',\n",
       "   'values': [{'id': '242060', 'name': 'Casas', 'results': 31}]},\n",
       "  {'id': 'ROOMS',\n",
       "   'name': 'Ambientes',\n",
       "   'type': 'range',\n",
       "   'values': [{'id': '[3-3]', 'name': '3 ambientes', 'results': 6},\n",
       "    {'id': '[4-*)', 'name': '4 ambientes o más', 'results': 20}]},\n",
       "  {'id': 'SUITABLE_FOR_MORTGAGE_LOAN',\n",
       "   'name': 'Apto crédito',\n",
       "   'type': 'boolean',\n",
       "   'values': [{'id': '242085', 'name': 'Es apto crédito', 'results': 4}]},\n",
       "  {'id': 'TOTAL_AREA',\n",
       "   'name': 'Superficie total',\n",
       "   'type': 'range',\n",
       "   'values': [{'id': '(*-150m²]',\n",
       "     'name': '150 m² totales o menos',\n",
       "     'results': 7},\n",
       "    {'id': '[150m²-250m²]', 'name': '150 a 250 m² totales', 'results': 11},\n",
       "    {'id': '[250m²-300m²]', 'name': '250 a 300 m² totales', 'results': 6},\n",
       "    {'id': '[300m²-*)', 'name': '300 m² totales o más', 'results': 8}]}]}"
      ]
     },
     "execution_count": 20,
     "metadata": {},
     "output_type": "execute_result"
    }
   ],
   "source": [
    "url='https://api.mercadolibre.com/sites/MLA/search?item_location=lat:{}_{},lon:{}_{}&category=MLA401685&offset={}#json'.format(lat1,lat2,lon1,lon2,offset)\n",
    "print(url)\n",
    "r = get_response(url)\n",
    "data = r.json()\n",
    "data"
   ]
  },
  {
   "cell_type": "code",
   "execution_count": null,
   "id": "b98138c8",
   "metadata": {},
   "outputs": [],
   "source": [
    "#Obtención de las características de cada uno de los items\n",
    "final_list = []\n",
    "for i in range(len(item_list)):\n",
    "    item=\"https://api.mercadolibre.com/items/{}\".format(item_list[i])\n",
    "    item_add = requests.get(item)\n",
    "    item_add = item_add.json()\n",
    "    final_list.append(item_add)\n",
    "    print(\"Porcentaje de completitud: {:0.2%}\".format((i+1)/len(item_list)),end='\\r')"
   ]
  },
  {
   "cell_type": "code",
   "execution_count": null,
   "id": "499ff2cc",
   "metadata": {},
   "outputs": [],
   "source": [
    "#Se Transforman los datos a tabla con pd.json_normalize\n",
    "data=pd.json_normalize(final_list)\n",
    "data.head()"
   ]
  },
  {
   "cell_type": "code",
   "execution_count": null,
   "id": "1b427853",
   "metadata": {},
   "outputs": [],
   "source": [
    "headers = list(data.columns)\n",
    "list(data.columns.values)\n",
    "#headers"
   ]
  },
  {
   "cell_type": "code",
   "execution_count": null,
   "id": "8aa37a72",
   "metadata": {},
   "outputs": [],
   "source": [
    "#Se guarda el CSV en el disco\n",
    "data.to_csv('Dataset_Inmobiliario.csv', encoding='utf-8')"
   ]
  },
  {
   "cell_type": "code",
   "execution_count": null,
   "id": "b5669c5b",
   "metadata": {},
   "outputs": [],
   "source": []
  }
 ],
 "metadata": {
  "kernelspec": {
   "display_name": "Python 3",
   "language": "python",
   "name": "python3"
  },
  "language_info": {
   "codemirror_mode": {
    "name": "ipython",
    "version": 3
   },
   "file_extension": ".py",
   "mimetype": "text/x-python",
   "name": "python",
   "nbconvert_exporter": "python",
   "pygments_lexer": "ipython3",
   "version": "3.8.8"
  }
 },
 "nbformat": 4,
 "nbformat_minor": 5
}
