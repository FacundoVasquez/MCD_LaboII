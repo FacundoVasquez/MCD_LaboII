{
 "cells": [
  {
   "cell_type": "markdown",
   "id": "52d0cde2",
   "metadata": {},
   "source": [
    "# Dataset Mercado Inmobiliario"
   ]
  },
  {
   "cell_type": "markdown",
   "id": "6005fe83",
   "metadata": {},
   "source": [
    "** Breve Intro de la creación del Dataset **"
   ]
  },
  {
   "cell_type": "code",
   "execution_count": 1,
   "id": "72729bf0",
   "metadata": {},
   "outputs": [],
   "source": [
    "# Carga de librerías necesarias para el trabajo\n",
    "import requests # Permite hacer llamados con el protocolo HTTP\n",
    "import json # Permite trabajar con los archivos JSON\n",
    "import pandas as pd # Trabajar con datos tabulares\n",
    "import numpy as np # Trabajar con operaciones matemáticas y arrays"
   ]
  },
  {
   "cell_type": "code",
   "execution_count": 2,
   "id": "47f8b9f5",
   "metadata": {},
   "outputs": [],
   "source": [
    "# Función que permite acceder a la información del URL\n",
    "\n",
    "def get_response(url):\n",
    "    try:\n",
    "        response = requests.get(url, timeout=3)\n",
    "        response.raise_for_status()\n",
    "        return response\n",
    "    except requests.exceptions.HTTPError as errh:\n",
    "        print (\"Http Error:\",errh)\n",
    "    except requests.exceptions.ConnectionError as errc:\n",
    "        print (\"Error Connecting:\",errc)\n",
    "    except requests.exceptions.Timeout as errt:\n",
    "        print (\"Timeout Error:\",errt)\n",
    "    except requests.exceptions.RequestException as err:\n",
    "        print (\"Ops: Something Else\",err)"
   ]
  },
  {
   "cell_type": "code",
   "execution_count": 3,
   "id": "8c6fdb3b",
   "metadata": {},
   "outputs": [
    {
     "name": "stdout",
     "output_type": "stream",
     "text": [
      "Encontramos 96446 resultados para nuestra consulta\n"
     ]
    }
   ],
   "source": [
    "# Primero indicamos la consulta que vamos a hacer\n",
    "url='https://api.mercadolibre.com/sites/MLA/search?item_location=lat:-34.687056_-34.537684,lon:-58.270306_-58.528547&category=MLA1459&limit=50&offset=0#json'\n",
    "\n",
    "offset=0 #Arrancamos con el offset 0\n",
    "r = get_response(url) #Vemos los resultados de la consulta\n",
    "maximum = int(str(r.json()[\"paging\"][\"total\"])) #Consultamos cuál es el número máximo de resultados\n",
    "\n",
    "print('Encontramos {} resultados para nuestra consulta'.format(maximum))"
   ]
  },
  {
   "cell_type": "code",
   "execution_count": 4,
   "id": "49fc8642",
   "metadata": {},
   "outputs": [
    {
     "name": "stdout",
     "output_type": "stream",
     "text": [
      "El valor del rango es: 0.14937199999999962\n",
      "El valor de la division es: 0.0014937199999999961\n"
     ]
    }
   ],
   "source": [
    "# Vamos a forzarnos a buscar pocos resultados para seguir testeando y no perder tanta velocidad\n",
    "# Cuando vayamos full mode, esta linea de abajo hay que comentarla o borrarla\n",
    "maximum=1000\n",
    "\n",
    "\n",
    "# Ahora, sabiendo esto, vamos a traer todos los resultados iterando y aumentando el offset en cada loop.\n",
    "# Recuerden que solo podemos traer de a tandas de a 50 resultados\n",
    "item_list = []\n",
    "\n",
    "#Se definen los punto de inicio y final del rectángulo a barrer en búsqueda inmuebles\n",
    "lat1=-34.687056\n",
    "lon1=-58.270306\n",
    "latF=-34.537684\n",
    "lonF=-58.528547\n",
    "\n",
    "#Se calcula la divisón del espacio a analizar\n",
    "rango = min(abs(latF-lat1),abs(lonF-lon1))\n",
    "division = rango/100\n",
    "\n",
    "print(\"El valor del rango es: \"+ str(rango))\n",
    "print(\"El valor de la division es: \"+ str(division))"
   ]
  },
  {
   "cell_type": "code",
   "execution_count": 5,
   "id": "d4aff206",
   "metadata": {},
   "outputs": [
    {
     "name": "stdout",
     "output_type": "stream",
     "text": [
      "Porcentaje de completitud offset: 100.00%\r"
     ]
    },
    {
     "data": {
      "text/plain": [
       "49845"
      ]
     },
     "execution_count": 5,
     "metadata": {},
     "output_type": "execute_result"
    }
   ],
   "source": [
    "#Se itera de tal forma de barrer el rectángulo en pequeñas porciones\n",
    "while lat1 <= latF:\n",
    "    lat2=lat1+division\n",
    "    \n",
    "    while lon1 >= lonF:\n",
    "        lon2=lon1-division\n",
    "        \n",
    "        while r.status_code == 200 and offset < maximum:\n",
    "            url='https://api.mercadolibre.com/sites/MLA/search?item_location=lat:{}_{},lon:{}_{}&category=MLA401685&limit=50&offset={}#json'.format(lat1,lat2,lon1,lon2,offset)\n",
    "            r = get_response(url)\n",
    "            data = r.json()\n",
    "            length = len(data['results'])\n",
    "            for i in range(length):\n",
    "                item_id = data['results'][i]['id']\n",
    "                item_list.append(item_id)\n",
    "            offset += 50\n",
    "                        \n",
    "            print(\"Porcentaje de completitud offset: {:0.2%}\".format(offset/maximum),end='\\r')\n",
    "            #print(\"Porcentaje de completitud lon: {:0.2%}\".format(abs(lon2/lonF)),end='\\r')\n",
    "            #print(\"Porcentaje de completitud lat: {:0.2%}\".format(latF/lat2),end='\\r')\n",
    "\n",
    "        lon1 -= division\n",
    "        offset=0\n",
    "\n",
    "    lat1 += division\n",
    "    offset=0\n",
    "\n",
    "len(item_list)"
   ]
  },
  {
   "cell_type": "code",
   "execution_count": null,
   "id": "b98138c8",
   "metadata": {},
   "outputs": [],
   "source": []
  }
 ],
 "metadata": {
  "kernelspec": {
   "display_name": "Python 3",
   "language": "python",
   "name": "python3"
  },
  "language_info": {
   "codemirror_mode": {
    "name": "ipython",
    "version": 3
   },
   "file_extension": ".py",
   "mimetype": "text/x-python",
   "name": "python",
   "nbconvert_exporter": "python",
   "pygments_lexer": "ipython3",
   "version": "3.8.8"
  }
 },
 "nbformat": 4,
 "nbformat_minor": 5
}
